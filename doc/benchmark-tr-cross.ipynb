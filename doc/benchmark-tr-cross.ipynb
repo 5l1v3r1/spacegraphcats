{
 "cells": [
  {
   "cell_type": "markdown",
   "metadata": {},
   "source": [
    "# construct a contracted De Bruijn graph for tr-cross\n",
    "\n",
    "By using '--label', we label the high degree nodes with the index of the sequences that contain them.\n",
    "\n",
    "Note, this will also construct an mxt file containing the minhashes."
   ]
  },
  {
   "cell_type": "code",
   "execution_count": 1,
   "metadata": {
    "collapsed": false
   },
   "outputs": [
    {
     "name": "stdout",
     "output_type": "stream",
     "text": [
      "\n",
      "placing output in directory: tr-cross\n",
      "gxt will be: tr-cross/tr-cross.gxt\n",
      "mxt will be: tr-cross/tr-cross.mxt\n",
      "\n",
      "building graphs and loading files\n",
      "finding high degree nodes\n",
      "... find_high_degree_nodes: 10000\n",
      "... find_high_degree_nodes: 20000\n",
      "... find_high_degree_nodes: 30000\n",
      "... find_high_degree_nodes: 40000\n",
      "... find_high_degree_nodes: 50000\n",
      "... find_high_degree_nodes: 60000\n",
      "... find_high_degree_nodes: 70000\n",
      "... find_high_degree_nodes: 80000\n",
      "... find_high_degree_nodes: 90000\n",
      "... find_high_degree_nodes: 10000\n",
      "... find_high_degree_nodes: 20000\n",
      "... find_high_degree_nodes: 30000\n",
      "... find_high_degree_nodes: 40000\n",
      "... find_high_degree_nodes: 50000\n",
      "... find_high_degree_nodes: 60000\n",
      "... find_high_degree_nodes: 70000\n",
      "... find_high_degree_nodes: 80000\n",
      "... find_high_degree_nodes: 90000\n",
      "... find_high_degree_nodes: 100000\n",
      "traversing linear segments from 439 nodes\n",
      "... 0 of 439\n",
      "1315 segments, containing 213588 nodes\n",
      "saving gxtfile tr-cross/tr-cross.gxt\n",
      "saving mxtfile tr-cross/tr-cross.mxt\n",
      "note: used/assigned 2 labels total\n",
      "counts: {1: 221, 2: 220}\n"
     ]
    }
   ],
   "source": [
    "!rm -fr tr-cross\n",
    "!../walk-dbg.py --label -x 1e7 -k 31 ../data/tr-cross.fa -o tr-cross"
   ]
  },
  {
   "cell_type": "markdown",
   "metadata": {},
   "source": [
    "# construct a catlas for tr-cross\n",
    "\n",
    "`tr-cross.catlas.3.gxt` and `tr-cross.catlas.3.mxt` contain the catlas graph and minhashes.\n",
    "\n",
    "`tr-cross.domgraph.3.gxt` is the graph made from the 3-dominating set.\n",
    "\n",
    "`tr-cross.gxt` and `tr-cross.mxt` are the original input files.\n",
    "\n",
    "`../spacegraphcats/gxt_to_gml.py` can be used to turn the domgraph or `tr-cross.gxt` files into GML files that can be visualized with Gephi."
   ]
  },
  {
   "cell_type": "code",
   "execution_count": 2,
   "metadata": {
    "collapsed": false
   },
   "outputs": [
    {
     "name": "stdout",
     "output_type": "stream",
     "text": [
      "Project tr-cross in tr-cross\n",
      "Found tr-cross.gxt in tr-cross\n",
      "Loaded graph with 1315 vertices, 1315 edges and 1 components\n",
      "Found tr-cross.mxt in tr-cross\n",
      "Loaded minhashes for graph\n",
      "\n",
      "Domset computation\n",
      "\n",
      "Augmenting 1 2 3 \n",
      "\n",
      "Catlas computation\n",
      "\n",
      "Mapping graph vertices to dominators\n",
      "Processing node 1315/1315\n",
      "Building catlasses for connected components\n",
      "Processing component 0/1\n",
      "Catlas done\n",
      "0 1\n",
      "1 6\n",
      "2 12\n",
      "3 21\n",
      "4 35\n",
      "5 62\n",
      "6 108\n",
      "7 188\n"
     ]
    }
   ],
   "source": [
    "!../build-catlas.py tr-cross 3"
   ]
  },
  {
   "cell_type": "markdown",
   "metadata": {},
   "source": [
    "# calculate MinHash signatures from tr-1.fa and tr-2.fa\n",
    "\n",
    "We know (by construction in this case) that tr-1.fa and tr-2.fa collectively cover the nodes in tr-cross.fa. Calculate MinHashes from each of them and use them to search, below.\n",
    "\n",
    "Note, the MINHASH_MAX_SIZE can be modified below. the MINHASH_KSIZE must match what was used in walk-dbg.py, above; it defaults to k=31, and cannot go above 32 for now.\n",
    "\n",
    "(These minhash signatures can be used to search the catlas .mxt file.)"
   ]
  },
  {
   "cell_type": "code",
   "execution_count": 3,
   "metadata": {
    "collapsed": false
   },
   "outputs": [],
   "source": [
    "from khmer import MinHash\n",
    "import screed\n",
    "\n",
    "MINHASH_MAX_SIZE=500   # important note: sensitivity in this parameter. not sure why. @CTB\n",
    "MINHASH_KSIZE = 31\n",
    "\n",
    "tr1_mh = MinHash(MINHASH_MAX_SIZE, MINHASH_KSIZE)\n",
    "for record in screed.open('../data/tr-1.fa'):\n",
    "    tr1_mh.add_sequence(record.sequence)\n",
    "\n",
    "tr2_mh = MinHash(MINHASH_MAX_SIZE, MINHASH_KSIZE)\n",
    "for record in screed.open('../data/tr-2.fa'):\n",
    "    tr2_mh.add_sequence(record.sequence)\n",
    "    \n",
    "def dump_hashes_to_file(mh, filename):\n",
    "    with open(filename, 'wt') as fp:\n",
    "        hashes = mh.get_mins()\n",
    "        hashes = map(str, hashes)\n",
    "        fp.write(' '.join(hashes))\n",
    "\n",
    "dump_hashes_to_file(tr1_mh, 'tr-cross/tr-1.mh.txt')\n",
    "dump_hashes_to_file(tr2_mh, 'tr-cross/tr-2.mh.txt')"
   ]
  },
  {
   "cell_type": "markdown",
   "metadata": {},
   "source": [
    "### side note - working with MinHashes and files\n",
    "\n",
    "To load MinHashes from a file, create a new MinHash object and then use `MinHash.add_hash(h)` to add each hash from the file:\n",
    "\n",
    "```\n",
    "# load mh from a file\n",
    "mh = MinHash(1000, 31)\n",
    "with open(dumpfile, 'rt') as fp:\n",
    "   hashes = fp.read().strip().split(' ')\n",
    "   for h in hashes:\n",
    "      h = int(h)\n",
    "      mh.add_hash(h)\n",
    "```"
   ]
  },
  {
   "cell_type": "markdown",
   "metadata": {},
   "source": [
    "# Search the catlas with a minhash"
   ]
  },
  {
   "cell_type": "code",
   "execution_count": 4,
   "metadata": {
    "collapsed": false
   },
   "outputs": [
    {
     "name": "stdout",
     "output_type": "stream",
     "text": [
      "reading mxt file tr-cross/tr-cross.catlas.3.mxt\n",
      "reading mh file tr-cross/tr-1.mh.txt\n",
      "searching catlas minhashes w/tr-cross/tr-1.mh.txt\n",
      "best match: similarity 0.972, catlas node 0\n",
      "found 188 domgraph leaves under catlas nodes [0]\n",
      "labels we're looking for: {1}\n",
      "all labels: {1, 2}\n",
      "\n",
      "pos dom nodes: 188\n",
      "neg dom nodes: 0\n",
      "all dom nodes: 188\n",
      "\n",
      "tp: 95\n",
      "fp: 93\n",
      "fn: 0\n",
      "tn: 0\n"
     ]
    }
   ],
   "source": [
    "# search for minhash of first sequence with label #1\n",
    "!../search-for-domgraph-nodes.py tr-cross 3 tr-cross/tr-1.mh.txt 1"
   ]
  },
  {
   "cell_type": "code",
   "execution_count": 5,
   "metadata": {
    "collapsed": false
   },
   "outputs": [
    {
     "name": "stdout",
     "output_type": "stream",
     "text": [
      "reading mxt file tr-cross/tr-cross.catlas.3.mxt\n",
      "reading mh file tr-cross/tr-2.mh.txt\n",
      "searching catlas minhashes w/tr-cross/tr-2.mh.txt\n",
      "best match: similarity 1.000, catlas node 0\n",
      "found 188 domgraph leaves under catlas nodes [0]\n",
      "labels we're looking for: {2}\n",
      "all labels: {1, 2}\n",
      "\n",
      "pos dom nodes: 188\n",
      "neg dom nodes: 0\n",
      "all dom nodes: 188\n",
      "\n",
      "tp: 96\n",
      "fp: 92\n",
      "fn: 0\n",
      "tn: 0\n"
     ]
    }
   ],
   "source": [
    "# search for minhash of second sequence with label #2\n",
    "!../search-for-domgraph-nodes.py tr-cross 3 tr-cross/tr-2.mh.txt 2"
   ]
  },
  {
   "cell_type": "markdown",
   "metadata": {},
   "source": [
    "## Some catveats\n",
    "\n",
    "Things I will think about:\n",
    "\n",
    "* right now I am only labeling nodes with degree > 2; linear segments are not labeled at all. Is this a problem?\n"
   ]
  },
  {
   "cell_type": "code",
   "execution_count": null,
   "metadata": {
    "collapsed": true
   },
   "outputs": [],
   "source": []
  }
 ],
 "metadata": {
  "kernelspec": {
   "display_name": "Python 3",
   "language": "python",
   "name": "python3"
  },
  "language_info": {
   "codemirror_mode": {
    "name": "ipython",
    "version": 3
   },
   "file_extension": ".py",
   "mimetype": "text/x-python",
   "name": "python",
   "nbconvert_exporter": "python",
   "pygments_lexer": "ipython3",
   "version": "3.5.1"
  }
 },
 "nbformat": 4,
 "nbformat_minor": 0
}
