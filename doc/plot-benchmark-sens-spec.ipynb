{
 "cells": [
  {
   "cell_type": "code",
   "execution_count": 6,
   "metadata": {
    "collapsed": true
   },
   "outputs": [],
   "source": [
    "%matplotlib inline\n",
    "import numpy\n",
    "import pylab"
   ]
  },
  {
   "cell_type": "code",
   "execution_count": 7,
   "metadata": {
    "collapsed": false
   },
   "outputs": [
    {
     "name": "stdout",
     "output_type": "stream",
     "text": [
      "make: Nothing to be done for `bench'.\r\n"
     ]
    }
   ],
   "source": [
    "!cd ../ && make bench"
   ]
  },
  {
   "cell_type": "markdown",
   "metadata": {},
   "source": [
    "## Benchmarking with the acidobacterium genome in 8 chunks"
   ]
  },
  {
   "cell_type": "code",
   "execution_count": 8,
   "metadata": {
    "collapsed": false
   },
   "outputs": [],
   "source": [
    "bestnode = numpy.loadtxt('../acido_bench/results_bestnode.csv',\n",
    "                            delimiter=',', skiprows=1, usecols=(0,1))\n",
    "searchlevel = numpy.loadtxt('../acido_bench/results_searchlevel.csv',\n",
    "                            delimiter=',', skiprows=1, usecols=(0,1))\n",
    "gathermins = numpy.loadtxt('../acido_bench/results_gathermins.csv',\n",
    "                            delimiter=',', skiprows=1, usecols=(0,1))\n",
    "gathermins2 = numpy.loadtxt('../acido_bench/results_gathermins2.csv',\n",
    "                            delimiter=',', skiprows=1, usecols=(0,1))"
   ]
  },
  {
   "cell_type": "code",
   "execution_count": 9,
   "metadata": {
    "collapsed": false
   },
   "outputs": [
    {
     "data": {
      "image/png": "[encoded data removed]",
      "text/plain": [
       "<matplotlib.figure.Figure at 0x105bd7cc0>"
      ]
     },
     "metadata": {},
     "output_type": "display_data"
    }
   ],
   "source": [
    "fig, axes = pylab.subplots(nrows=1, ncols=4, figsize=(12, 5))\n",
    "\n",
    "def plot_pair(what, axes, first, name):\n",
    "    axes[first].violinplot(what, showmedians=True)\n",
    "    axes[first].axis(ymin=0, ymax=100)\n",
    "    #axes[first].get_xaxis().set_visible(False)\n",
    "    axes[first].set_title(name)\n",
    "    axes[first].set_xticks([1, 2])\n",
    "    axes[first].set_xticklabels(['sensitivity', 'specificity'])\n",
    "    \n",
    "plot_pair(bestnode, axes, 0, 'bestnode')\n",
    "plot_pair(searchlevel, axes, 1, 'searchlevel')\n",
    "plot_pair(gathermins, axes, 2, 'gathermins')\n",
    "plot_pair(gathermins2, axes, 3, 'gathermins2')\n"
   ]
  },
  {
   "cell_type": "markdown",
   "metadata": {
    "collapsed": true
   },
   "source": [
    "## Benchmarking with the 15genome data set"
   ]
  },
  {
   "cell_type": "code",
   "execution_count": 10,
   "metadata": {
    "collapsed": false
   },
   "outputs": [
    {
     "ename": "FileNotFoundError",
     "evalue": "[Errno 2] No such file or directory: '../15genome/results_bestnode.csv'",
     "output_type": "error",
     "traceback": [
      "\u001b[0;31m---------------------------------------------------------------------------\u001b[0m",
      "\u001b[0;31mFileNotFoundError\u001b[0m                         Traceback (most recent call last)",
      "\u001b[0;32m<ipython-input-10-5699c1a5df5e>\u001b[0m in \u001b[0;36m<module>\u001b[0;34m()\u001b[0m\n\u001b[1;32m      1\u001b[0m bestnode = numpy.loadtxt('../15genome/results_bestnode.csv',\n\u001b[0;32m----> 2\u001b[0;31m                             delimiter=',', skiprows=1, usecols=(0,1))\n\u001b[0m\u001b[1;32m      3\u001b[0m searchlevel_3 = numpy.loadtxt('../15genome/results_searchlevel.3.csv',\n\u001b[1;32m      4\u001b[0m                             delimiter=',', skiprows=1, usecols=(0,1))\n\u001b[1;32m      5\u001b[0m gathermins_3 = numpy.loadtxt('../15genome/results_gathermins.3.csv',\n",
      "\u001b[0;32m/Users/t/dev/jup/lib/python3.5/site-packages/numpy/lib/npyio.py\u001b[0m in \u001b[0;36mloadtxt\u001b[0;34m(fname, dtype, comments, delimiter, converters, skiprows, usecols, unpack, ndmin)\u001b[0m\n\u001b[1;32m    803\u001b[0m                 \u001b[0mfh\u001b[0m \u001b[0;34m=\u001b[0m \u001b[0miter\u001b[0m\u001b[0;34m(\u001b[0m\u001b[0mopen\u001b[0m\u001b[0;34m(\u001b[0m\u001b[0mfname\u001b[0m\u001b[0;34m,\u001b[0m \u001b[0;34m'U'\u001b[0m\u001b[0;34m)\u001b[0m\u001b[0;34m)\u001b[0m\u001b[0;34m\u001b[0m\u001b[0m\n\u001b[1;32m    804\u001b[0m             \u001b[0;32melse\u001b[0m\u001b[0;34m:\u001b[0m\u001b[0;34m\u001b[0m\u001b[0m\n\u001b[0;32m--> 805\u001b[0;31m                 \u001b[0mfh\u001b[0m \u001b[0;34m=\u001b[0m \u001b[0miter\u001b[0m\u001b[0;34m(\u001b[0m\u001b[0mopen\u001b[0m\u001b[0;34m(\u001b[0m\u001b[0mfname\u001b[0m\u001b[0;34m)\u001b[0m\u001b[0;34m)\u001b[0m\u001b[0;34m\u001b[0m\u001b[0m\n\u001b[0m\u001b[1;32m    806\u001b[0m         \u001b[0;32melse\u001b[0m\u001b[0;34m:\u001b[0m\u001b[0;34m\u001b[0m\u001b[0m\n\u001b[1;32m    807\u001b[0m             \u001b[0mfh\u001b[0m \u001b[0;34m=\u001b[0m \u001b[0miter\u001b[0m\u001b[0;34m(\u001b[0m\u001b[0mfname\u001b[0m\u001b[0;34m)\u001b[0m\u001b[0;34m\u001b[0m\u001b[0m\n",
      "\u001b[0;31mFileNotFoundError\u001b[0m: [Errno 2] No such file or directory: '../15genome/results_bestnode.csv'"
     ]
    }
   ],
   "source": [
    "bestnode = numpy.loadtxt('../15genome/results_bestnode.csv',\n",
    "                            delimiter=',', skiprows=1, usecols=(0,1))\n",
    "searchlevel_3 = numpy.loadtxt('../15genome/results_searchlevel.3.csv',\n",
    "                            delimiter=',', skiprows=1, usecols=(0,1))\n",
    "gathermins_3 = numpy.loadtxt('../15genome/results_gathermins.3.csv',\n",
    "                            delimiter=',', skiprows=1, usecols=(0,1))\n",
    "gathermins2_3 = numpy.loadtxt('../15genome/results_gathermins2.3.csv',\n",
    "                            delimiter=',', skiprows=1, usecols=(0,1))\n",
    "searchlevel_5 = numpy.loadtxt('../15genome/results_searchlevel.5.csv',\n",
    "                            delimiter=',', skiprows=1, usecols=(0,1))\n",
    "gathermins_5 = numpy.loadtxt('../15genome/results_gathermins.5.csv',\n",
    "                            delimiter=',', skiprows=1, usecols=(0,1))\n",
    "gathermins2_5 = numpy.loadtxt('../15genome/results_gathermins2.5.csv',\n",
    "                            delimiter=',', skiprows=1, usecols=(0,1))"
   ]
  },
  {
   "cell_type": "code",
   "execution_count": null,
   "metadata": {
    "collapsed": false
   },
   "outputs": [],
   "source": [
    "fig, axes = pylab.subplots(nrows=1, ncols=5, figsize=(12, 5))\n",
    "\n",
    "def plot_pair(what, axes, first, name):\n",
    "    axes[first].violinplot(what, showmedians=True)\n",
    "    axes[first].axis(ymin=0, ymax=100)\n",
    "    #axes[first].get_xaxis().set_visible(False)\n",
    "    axes[first].set_title(name)\n",
    "    axes[first].set_xticks([1, 2])\n",
    "    axes[first].set_xticklabels(['sensitivity', 'specificity'])\n",
    "    \n",
    "plot_pair(bestnode, axes, 0, 'bestnode')\n",
    "plot_pair(searchlevel_3, axes, 1, 'searchlevel / 3')\n",
    "plot_pair(searchlevel_5, axes, 2, 'searchlevel / 5')\n",
    "\n",
    "plot_pair(gathermins_3, axes, 3, 'gathermins / 3')\n",
    "plot_pair(gathermins_5, axes, 4, 'gathermins / 5')\n",
    "\n"
   ]
  }
 ],
 "metadata": {
  "kernelspec": {
   "display_name": "Python 3",
   "language": "python",
   "name": "python3"
  },
  "language_info": {
   "codemirror_mode": {
    "name": "ipython",
    "version": 3
   },
   "file_extension": ".py",
   "mimetype": "text/x-python",
   "name": "python",
   "nbconvert_exporter": "python",
   "pygments_lexer": "ipython3",
   "version": "3.5.1"
  }
 },
 "nbformat": 4,
 "nbformat_minor": 0
}
